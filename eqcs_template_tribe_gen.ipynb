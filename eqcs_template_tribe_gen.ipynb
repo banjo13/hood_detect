{
 "cells": [
  {
   "cell_type": "markdown",
   "metadata": {},
   "source": [
    "I can take sac files for a single event \n",
    "and make a template then a Template then a Tribe with it in this notebook. "
   ]
  },
  {
   "cell_type": "code",
   "execution_count": null,
   "metadata": {},
   "outputs": [],
   "source": [
    "import logging\n",
    "\n",
    "logging.basicConfig(\n",
    "    level=logging.INFO,\n",
    "    format=\"%(asctime)s\\t%(name)s\\t%(levelname)s\\t%(message)s\")"
   ]
  },
  {
   "cell_type": "code",
   "execution_count": null,
   "metadata": {},
   "outputs": [],
   "source": [
    "import numpy as np\n",
    "import pandas as pd\n",
    "import obspy\n",
    "import obspy.core\n",
    "import obspy.core.stream \n",
    "from obspy import UTCDateTime as utcdt\n",
    "from obspy.core.event import Event, Origin, WaveformStreamID, Pick\n",
    "from obspy.clients.fdsn import Client\n",
    "from obspy import UTCDateTime as utcdt\n",
    "client = Client('IRIS')\n",
    "# from eqcorrscan.core.match_filter import Tribe\n",
    "import eqcorrscan\n",
    "from eqcorrscan import utils\n",
    "from eqcorrscan.core.match_filter import Tribe\n",
    "from eqcorrscan.utils.catalog_utils import filter_picks\n",
    "from eqcorrscan.utils.plotting import (pretty_template_plot,detection_multiplot)\n",
    "import glob\n",
    "from eqcorrscan.core.match_filter import Template\n",
    "import os"
   ]
  },
  {
   "cell_type": "code",
   "execution_count": null,
   "metadata": {},
   "outputs": [],
   "source": [
    "# path1='/Users/banjo/home/bnjo/hood/data/*'\n",
    "path1=\"/Users/banjo/home/bnjo/hood/data/61730867\"\n",
    "# path2='/Users/banjo/home/bnjo/hood/data/*'\n",
    "opath='/Users/banjo/home/bnjo/hood/xcorr/'\n",
    "ofile = 'test_output.csv'\n",
    "stEHZ=obspy.read(path1+'/*EHZ_test.SAC')\n",
    "# stEHE=obspy.read(path1+'/*EHE_test.SAC')\n",
    "# stEHN=obspy.read(path1+'/*EHN_test.SAC')\n",
    "stHHZ=obspy.read(path1+'/*HHZ_test.SAC')\n",
    "stHHE=obspy.read(path1+'/*HHE_test.SAC')\n",
    "stHHN=obspy.read(path1+'/*HHN_test.SAC')\n",
    "stBHZ=obspy.read(path1+'/*BHZ_test.SAC')\n",
    "stBHE=obspy.read(path1+'/*BHE_test.SAC')\n",
    "stBHN=obspy.read(path1+'/*BHN_test.SAC')\n",
    "# st2=obspy.read(path2+'/*HOOD_*Z.SAC')"
   ]
  },
  {
   "cell_type": "code",
   "execution_count": null,
   "metadata": {},
   "outputs": [],
   "source": [
    "from eqcorrscan.core.template_gen import template_gen\n",
    "import glob\n",
    "EHZtemps = template_gen(\n",
    "    method='from_sac', sac_files=stEHZ, lowcut=2.0, highcut=15.0,\n",
    "    samp_rate=100.0, filt_order=4, length=2.0, prepick=0.1,\n",
    "    all_horiz=False)\n",
    "# EHEtemps = template_gen(\n",
    "#     method='from_sac', sac_files=stEHZ, lowcut=2.0, highcut=15.0,\n",
    "#     samp_rate=100.0, filt_order=4, length=2.0, prepick=0.1,\n",
    "#     all_horiz=False)\n",
    "# EHNtemps = template_gen(\n",
    "#     method='from_sac', sac_files=stEHZ, lowcut=2.0, highcut=15.0,\n",
    "#     samp_rate=100.0, filt_order=4, length=2.0, prepick=0.1,\n",
    "#     all_horiz=False)\n",
    "HHZtemps = template_gen(\n",
    "    method='from_sac', sac_files=stHHZ, lowcut=2.0, highcut=15.0,\n",
    "    samp_rate=100.0, filt_order=4, length=2.0, prepick=0.1,\n",
    "    all_horiz=False)\n",
    "HHEtemps = template_gen(\n",
    "    method='from_sac', sac_files=stHHE, lowcut=2.0, highcut=15.0,\n",
    "    samp_rate=100.0, filt_order=4, length=2.0, prepick=0.1,\n",
    "    all_horiz=False)\n",
    "HHNtemps = template_gen(\n",
    "    method='from_sac', sac_files=stHHN, lowcut=2.0, highcut=15.0,\n",
    "    samp_rate=100.0, filt_order=4, length=2.0, prepick=0.1,\n",
    "    all_horiz=False)\n",
    "BHZtemps = template_gen(\n",
    "    method='from_sac', sac_files=stBHZ, lowcut=2.0, highcut=15.0,\n",
    "    samp_rate=50.0, filt_order=4, length=2.0, prepick=0.1,\n",
    "    all_horiz=False)\n",
    "BHNtemps = template_gen(\n",
    "    method='from_sac', sac_files=stBHN, lowcut=2.0, highcut=15.0,\n",
    "    samp_rate=50.0, filt_order=4, length=2.0, prepick=0.1,\n",
    "    all_horiz=False)\n",
    "BHEtemps = template_gen(\n",
    "    method='from_sac', sac_files=stBHE, lowcut=2.0, highcut=15.0,\n",
    "    samp_rate=50.0, filt_order=4, length=2.0, prepick=0.1,\n",
    "    all_horiz=False)"
   ]
  },
  {
   "cell_type": "code",
   "execution_count": null,
   "metadata": {},
   "outputs": [],
   "source": [
    "bhnt = BHNtemps[0]"
   ]
  },
  {
   "cell_type": "code",
   "execution_count": null,
   "metadata": {},
   "outputs": [],
   "source": [
    "for tr in bhnt:\n",
    "    print(tr.stats.sac)"
   ]
  },
  {
   "cell_type": "code",
   "execution_count": null,
   "metadata": {},
   "outputs": [],
   "source": [
    "# BHZtemps"
   ]
  },
  {
   "cell_type": "code",
   "execution_count": null,
   "metadata": {},
   "outputs": [],
   "source": [
    "# HHZtemps"
   ]
  },
  {
   "cell_type": "code",
   "execution_count": null,
   "metadata": {},
   "outputs": [],
   "source": []
  },
  {
   "cell_type": "code",
   "execution_count": null,
   "metadata": {},
   "outputs": [],
   "source": []
  },
  {
   "cell_type": "code",
   "execution_count": null,
   "metadata": {},
   "outputs": [],
   "source": [
    "\n",
    "ehzs = Template(\n",
    "    name='61730867_ehz', st=EHZtemps[0], lowcut=2.0, highcut=15.0,\n",
    "    samp_rate=100.0, filt_order=4, prepick=0.1, process_length=200)\n",
    "# ehzs = Template(\n",
    "#     name='61730867_ehz', st=EHZtemps[0], lowcut=2.0, highcut=15.0,\n",
    "#     samp_rate=100.0, filt_order=4, prepick=0.1, process_length=200)\n",
    "# ehzs = Template(\n",
    "#     name='61730867_ehz', st=EHZtemps[0], lowcut=2.0, highcut=15.0,\n",
    "#     samp_rate=100.0, filt_order=4, prepick=0.1, process_length=200)"
   ]
  },
  {
   "cell_type": "code",
   "execution_count": null,
   "metadata": {},
   "outputs": [],
   "source": [
    "hhzs = Template(\n",
    "    name='61730867_hhz', st=HHZtemps[0], lowcut=2.0, highcut=15.0,\n",
    "    samp_rate=100.0, filt_order=4, prepick=0.1, process_length=200)\n",
    "hhes = Template(\n",
    "    name='61730867_hhe', st=HHEtemps[0], lowcut=2.0, highcut=15.0,\n",
    "    samp_rate=100.0, filt_order=4, prepick=0.1, process_length=200)\n",
    "hhns = Template(\n",
    "    name='61730867_hhn', st=HHNtemps[0], lowcut=2.0, highcut=15.0,\n",
    "    samp_rate=100.0, filt_order=4, prepick=0.1, process_length=200)"
   ]
  },
  {
   "cell_type": "code",
   "execution_count": null,
   "metadata": {},
   "outputs": [],
   "source": [
    "bhzs = Template(\n",
    "    name='61730867_bhz', st=BHZtemps[0], lowcut=2.0, highcut=15.0,\n",
    "    samp_rate=50.0, filt_order=4, prepick=0.1, process_length=200)\n",
    "bhes = Template(\n",
    "    name='61730867_bhe', st=BHEtemps[0], lowcut=2.0, highcut=15.0,\n",
    "    samp_rate=50.0, filt_order=4, prepick=0.1, process_length=200)\n",
    "bhns = Template(\n",
    "    name='61730867_bhn', st=BHNtemps[0], lowcut=2.0, highcut=15.0,\n",
    "    samp_rate=50.0, filt_order=4, prepick=0.1, process_length=200)"
   ]
  },
  {
   "cell_type": "code",
   "execution_count": null,
   "metadata": {},
   "outputs": [],
   "source": [
    "ehzs"
   ]
  },
  {
   "cell_type": "code",
   "execution_count": null,
   "metadata": {},
   "outputs": [],
   "source": [
    "tribe = Tribe(templates=[ehzs,bhzs,bhes,bhns,hhzs,hhes,hhns])"
   ]
  },
  {
   "cell_type": "code",
   "execution_count": null,
   "metadata": {},
   "outputs": [],
   "source": [
    "tribe"
   ]
  },
  {
   "cell_type": "code",
   "execution_count": null,
   "metadata": {},
   "outputs": [],
   "source": [
    "tribe.write('/Users/banjo/home/bnjo/hood/det/tribes/61730867',compress=True, catalog_format='QUAKEML')"
   ]
  },
  {
   "cell_type": "code",
   "execution_count": null,
   "metadata": {},
   "outputs": [],
   "source": [
    "# tribe_back = Tribe().read('/Users/banjo/home/bnjo/hood/det/test_tribes.tgz')"
   ]
  },
  {
   "cell_type": "code",
   "execution_count": null,
   "metadata": {},
   "outputs": [],
   "source": [
    "# st = obspy.read('/Users/banjo/home/bnjo/hood/det/tribes/test_tribes/*.ms')"
   ]
  },
  {
   "cell_type": "code",
   "execution_count": null,
   "metadata": {},
   "outputs": [],
   "source": [
    "# for tr in st:\n",
    "#     print(tr.stats)"
   ]
  },
  {
   "cell_type": "code",
   "execution_count": null,
   "metadata": {},
   "outputs": [],
   "source": []
  },
  {
   "cell_type": "code",
   "execution_count": null,
   "metadata": {},
   "outputs": [],
   "source": [
    "from obspy import UTCDateTime\n",
    "\n",
    "party, stream = tribe.client_detect(\n",
    "      client=client, starttime=UTCDateTime(2021, 6, 6, 3),\n",
    "      endtime=UTCDateTime(2021, 6, 6, 4), threshold=8, threshold_type='MAD',\n",
    "      trig_int=6, plot=False, return_stream=False)"
   ]
  },
  {
   "cell_type": "code",
   "execution_count": null,
   "metadata": {},
   "outputs": [],
   "source": [
    "party"
   ]
  },
  {
   "cell_type": "code",
   "execution_count": null,
   "metadata": {},
   "outputs": [],
   "source": [
    "# names = []\n",
    "# # catalog = []\n",
    "# for tr1 in st1:\n",
    "# #     tr1=st1[i]\n",
    "# #     stats = tr1.stats\n",
    "#     sac = tr1.stats.sac\n",
    "# #     b = (sac['b'])*-1\n",
    "# #     p = sac['a']\n",
    "# #     sac['kt0'] = 'P'\n",
    "#     evid = sac['nevid']\n",
    "#     sta = str(tr1.stats.station)\n",
    "#     chn = str(tr1.stats.channel)\n",
    "#     name = str(evid)+\"_\"+sta+\"_\"+chn\n",
    "# #     starttime = stats.starttime\n",
    "# #     stats['p_time'] = starttime + b + p\n",
    "# #     stats['o_time'] = starttime + b \n",
    "# #     stats['evid'] = evid\n",
    "# #     sac\n",
    "#     names.append(name)\n",
    "# #     print(starttime)\n",
    "# #     print\n",
    "# #     event = eqcorrscan.utils.sac_util.sactoevent(st1)\n",
    "# #     catalog.append(event)"
   ]
  },
  {
   "cell_type": "code",
   "execution_count": null,
   "metadata": {},
   "outputs": [],
   "source": [
    "st1"
   ]
  },
  {
   "cell_type": "code",
   "execution_count": null,
   "metadata": {},
   "outputs": [],
   "source": [
    "# sac_files[0][47:49]\n",
    "for sf in sac_files:\n",
    "    if len(sf)==54:\n",
    "#         print(sf[47:50])\n",
    "        print(sf[47])\n",
    "    else:\n",
    "#         print(sf[46:49])\n",
    "        print(sf[46])\n",
    "#     print(sf[46:49])\n",
    "#     print(len(sf))"
   ]
  },
  {
   "cell_type": "code",
   "execution_count": null,
   "metadata": {},
   "outputs": [],
   "source": [
    "import glob\n",
    "from eqcorrscan.core.match_filter import Template\n",
    "import os\n",
    "from eqcorrscan import tests\n",
    "# Get the path for the test-data so we can test this\n",
    "# TEST_PATH = os.path.dirname(tests.__file__)\n",
    "# path1=\"/Users/banjo/home/bnjo/hood/data/61501643\"\n",
    "test_path=os.path.dirname('/Users/banjo/home/bnjo/hood/data')\n",
    "sac_files = glob.glob(path+ '/61501643/*_*.sac')\n",
    "# sac_files is now a list of all the SAC files for event id:2014p611252\n",
    "for i in range(len(sac_files)):\n",
    "    sf = sac_files[i]\n",
    "    if len(sf)==54:\n",
    "        if sf[47] == 'B':\n",
    "            template = Template().construct(\n",
    "              method='from_sac', name='test', lowcut=2.0, highcut=15.0,\n",
    "              samp_rate=50.0, filt_order=4, prepick=0.1, swin='all',\n",
    "              length=2.0, sac_files=sac_files)\n",
    "    if len(sf)==53:\n",
    "        if sf[46] == 'E' or sf[46] == 'H' : \n",
    "            template = Template().construct(\n",
    "              method='from_sac', name='test', lowcut=2.0, highcut=15.0,\n",
    "              samp_rate=100.0, filt_order=4, prepick=0.1, swin='all',\n",
    "              length=2.0, sac_files=sac_files)"
   ]
  },
  {
   "cell_type": "code",
   "execution_count": null,
   "metadata": {},
   "outputs": [],
   "source": [
    "template"
   ]
  },
  {
   "cell_type": "code",
   "execution_count": null,
   "metadata": {},
   "outputs": [],
   "source": [
    "from eqcorrscan.core.template_gen import template_gen\n",
    "import glob\n",
    "templates = template_gen(\n",
    "    method='from_sac', sac_files=st1, lowcut=2.0, highcut=15.0,\n",
    "    samp_rate=100.0, filt_order=4, length=2.0, prepick=0.1,\n",
    "    all_horiz=False)"
   ]
  },
  {
   "cell_type": "code",
   "execution_count": null,
   "metadata": {},
   "outputs": [],
   "source": [
    "templates"
   ]
  },
  {
   "cell_type": "code",
   "execution_count": null,
   "metadata": {},
   "outputs": [],
   "source": [
    "st = obspy.core.stream.Stream([tr[0] for tr in templates])"
   ]
  },
  {
   "cell_type": "code",
   "execution_count": null,
   "metadata": {},
   "outputs": [],
   "source": [
    "st"
   ]
  },
  {
   "cell_type": "code",
   "execution_count": null,
   "metadata": {},
   "outputs": [],
   "source": [
    "event = eqcorrscan.utils.sac_util.sactoevent(templates)"
   ]
  },
  {
   "cell_type": "code",
   "execution_count": null,
   "metadata": {},
   "outputs": [],
   "source": [
    "event"
   ]
  },
  {
   "cell_type": "code",
   "execution_count": null,
   "metadata": {},
   "outputs": [],
   "source": [
    "# path = '/Users/banjo/home/bnjo/hood/xcorr'\n",
    "\n",
    "# from obspy import read\n",
    "# from eqcorrscan.core.template_gen import template_gen\n",
    "#  # Get the path to the test data\n",
    "# import eqcorrscan\n",
    "# import os\n",
    "# # TEST_PATH = os.path.dirname(eqcorrscan.__file__) + '/tests/test_data'\n",
    "# st = st1\n",
    "# quakeml = path + '/6621swarm.xml'\n",
    "# templates = template_gen(\n",
    "#     method='from_meta_file', meta_file=quakeml, st=st, lowcut=2.0,\n",
    "#     highcut=9.0, samp_rate=20.0, filt_order=3, length=2, prepick=0.1,\n",
    "#     swin='P', all_horiz=True)\n",
    "\n",
    "# # 10\n",
    "# #  templates = template_gen(\n",
    "# # ...    method='from_meta_file', meta_file=quakeml, st=st, lowcut=2.0,\n",
    "# # ...    highcut=9.0, samp_rate=20.0, filt_order=3, length=2, prepick=0.1,\n",
    "# # ...    swin='S_all', all_horiz=True)\n",
    "# #  print(len(templates[0]))\n",
    "# # 15"
   ]
  },
  {
   "cell_type": "code",
   "execution_count": null,
   "metadata": {},
   "outputs": [],
   "source": [
    "from eqcorrscan.core.match_filter import Template\n",
    "template = Template(\n",
    "    name=[names], st=templates, lowcut=2.0, highcut=15.0,\n",
    "    samp_rate=100.0, filt_order=4, prepick=0.15, process_length=200)"
   ]
  },
  {
   "cell_type": "code",
   "execution_count": null,
   "metadata": {},
   "outputs": [],
   "source": [
    "for tr2 in st2:\n",
    "    stats = tr2.stats\n",
    "    sac = tr2.stats.sac\n",
    "    b = (sac['b'])*-1\n",
    "    t1 = sac['t1']\n",
    "    evid = sac['nevid']\n",
    "    starttime = stats.starttime\n",
    "    stats['p_time'] = starttime + b + t1\n",
    "    stats['o_time'] = starttime + b \n",
    "    stats['evid'] = evid"
   ]
  },
  {
   "cell_type": "code",
   "execution_count": null,
   "metadata": {},
   "outputs": [],
   "source": [
    "output = []\n",
    "for tr1 in st1:\n",
    "    for tr2 in st2:\n",
    "#         tr1=st1[0]\n",
    "        evid1 = tr1.stats['evid']\n",
    "        evid2 = tr2.stats['evid']\n",
    "        station = str(tr1.stats.station)\n",
    "        channel = str(tr1.stats.channel)\n",
    "        name = station+'\\s'+channel\n",
    "        try:\n",
    "            xcorr=xcorr_pick_correction(\n",
    "                tr1.stats.p_time, tr1, \n",
    "                tr2.stats.p_time, tr2, \n",
    "                t_before=0.05, \n",
    "                t_after=0.20, \n",
    "                cc_maxlag=0.10,\n",
    "                filter=\"bandpass\", \n",
    "                filter_options={'freqmin':2, 'freqmax':15},\n",
    "                plot=False, \n",
    "                filename=None)\n",
    "            output.append([evid1,evid2,station,channel,xcorr[0],xcorr[1]])\n",
    "        except:\n",
    "            print(\"No Go: \", evid1, evid2)\n",
    "            continue\n",
    "    \n",
    "        \n",
    "#     output.append([evid1,evid2,station,channel,xcorr[0],xcorr[1]])"
   ]
  },
  {
   "cell_type": "code",
   "execution_count": null,
   "metadata": {},
   "outputs": [],
   "source": [
    "# output = []\n",
    "# for tr2 in st2:\n",
    "#     tr1=st1[0]\n",
    "#     evid1 = tr1.stats['evid']\n",
    "#     evid2 = tr2.stats['evid']\n",
    "#     station = str(tr1.stats.station)\n",
    "#     channel = str(tr1.stats.channel)\n",
    "#     name = station+'\\s'+channel\n",
    "#     try:\n",
    "#         xcorr=xcorr_pick_correction(\n",
    "#             tr1.stats.p_time, tr1, \n",
    "#             tr2.stats.p_time, tr2, \n",
    "#             t_before=0.05, \n",
    "#             t_after=0.20, \n",
    "#             cc_maxlag=0.10,\n",
    "#             filter=\"bandpass\", \n",
    "#             filter_options={'freqmin':2, 'freqmax':15},\n",
    "#             plot=False, \n",
    "#             filename=None)\n",
    "#         output.append([evid1,evid2,station,channel,xcorr[0],xcorr[1]])\n",
    "#     except:\n",
    "#         print(\"No Go: \", evid1, evid2)\n",
    "#         continue\n",
    "    \n",
    "        \n",
    "# #     output.append([evid1,evid2,station,channel,xcorr[0],xcorr[1]])"
   ]
  },
  {
   "cell_type": "code",
   "execution_count": null,
   "metadata": {},
   "outputs": [],
   "source": [
    "df = pd.DataFrame(output,columns=['evid1','evid2','sta','chn','dt','cc'])"
   ]
  },
  {
   "cell_type": "code",
   "execution_count": null,
   "metadata": {},
   "outputs": [],
   "source": [
    "df"
   ]
  },
  {
   "cell_type": "code",
   "execution_count": null,
   "metadata": {},
   "outputs": [],
   "source": [
    "df.to_csv(opath+ofile,index=0)"
   ]
  },
  {
   "cell_type": "code",
   "execution_count": null,
   "metadata": {},
   "outputs": [],
   "source": [
    "# tr1 = st1[0]\n",
    "# tr2 = st2[0]\n",
    "# # tr.stats"
   ]
  },
  {
   "cell_type": "code",
   "execution_count": null,
   "metadata": {},
   "outputs": [],
   "source": [
    "# tr1.stats\n",
    "# # print(tr1.stats.sac['nzhour'],\n",
    "# #     tr1.stats.sac['nzmin'],\n",
    "# #     tr1.stats.sac['nzsec'],\n",
    "# #     tr1.stats.sac['nzmsec'])"
   ]
  },
  {
   "cell_type": "code",
   "execution_count": null,
   "metadata": {},
   "outputs": [],
   "source": [
    "# print(tr.stats.sac['nzhour'],\n",
    "#     tr.stats.sac['nzmin'],\n",
    "#     tr.stats.sac['nzsec'],\n",
    "#     tr.stats.sac['nzmsec'])"
   ]
  },
  {
   "cell_type": "code",
   "execution_count": null,
   "metadata": {},
   "outputs": [],
   "source": [
    "# for tr in st1:\n",
    "#     tr.stats['p_time'] = utcdt('2021-06-06T03:57:30.970000Z')\n",
    "#     tr.stats['o_time'] = tr.stats['p_time'] - 1.62\n",
    "#     tr.stats['evid'] = 61730857\n",
    "#     starttime=tr.stats.starttime\n",
    "    "
   ]
  },
  {
   "cell_type": "code",
   "execution_count": null,
   "metadata": {},
   "outputs": [],
   "source": [
    "# for tr in st2:\n",
    "#     tr.stats['p_time'] = utcdt('2021-06-06T03:58:44.450000Z')\n",
    "#     tr.stats['o_time'] = tr.stats['p_time'] - 1.53\n",
    "#     tr.stats['evid'] = 61730862\n",
    "#     starttime=tr.stats.starttime"
   ]
  },
  {
   "cell_type": "code",
   "execution_count": null,
   "metadata": {},
   "outputs": [],
   "source": [
    "# t_before=0.05, t_after=0.2, cc_maxlag=0.10,\n",
    "# filter=\"bandpass\", filter_options={'freqmin': 1, 'freqmax': 20}"
   ]
  },
  {
   "cell_type": "code",
   "execution_count": null,
   "metadata": {},
   "outputs": [],
   "source": [
    "# xcorr_pick_correction(pick1, trace1, \n",
    "#                       pick2, trace2, \n",
    "#                       t_before, t_after, \n",
    "#                       cc_maxlag, filter=None, \n",
    "#                       filter_options={}, \n",
    "#                       plot=False, \n",
    "#                       filename=None)"
   ]
  },
  {
   "cell_type": "code",
   "execution_count": null,
   "metadata": {},
   "outputs": [],
   "source": []
  },
  {
   "cell_type": "code",
   "execution_count": null,
   "metadata": {},
   "outputs": [],
   "source": [
    "# for i in range(len(st2)):\n",
    "#     tr1=st1[0]\n",
    "#     tr2=st2[i]\n",
    "#     xcorr=xcorr_pick_correction(\n",
    "#         tr1.stats.p_time, tr1, \n",
    "#         tr2.stats.sac['t1']p_time, tr2, \n",
    "#         t_before=0.05, \n",
    "#         t_after=0.20, \n",
    "#         cc_maxlag=0.10,\n",
    "#         filter=\"bandpass\", \n",
    "#         filter_options={'freqmin': 2, 'freqmax': 15},\n",
    "#         plot=True, \n",
    "#         filename=None)"
   ]
  },
  {
   "cell_type": "code",
   "execution_count": null,
   "metadata": {},
   "outputs": [],
   "source": [
    "# # tr1.plot();\n",
    "# # tr2.plot();\n",
    "# tr1.stats.sac['a']"
   ]
  },
  {
   "cell_type": "code",
   "execution_count": null,
   "metadata": {},
   "outputs": [],
   "source": [
    "# xcorr_pick_correction(tr1.stats.p_time, tr1, \n",
    "#                       tr2.stats.p_time, tr2, \n",
    "#                       t_before=0.05, \n",
    "#                       t_after=0.20, \n",
    "#                       cc_maxlag=0.10,\n",
    "#                       filter=\"bandpass\", \n",
    "#                       filter_options={'freqmin': 2, 'freqmax': 15},\n",
    "#                       plot=True, \n",
    "#                       filename=None)"
   ]
  },
  {
   "cell_type": "code",
   "execution_count": null,
   "metadata": {},
   "outputs": [],
   "source": [
    "# for tr in st1:\n",
    "#     starttime=tr.stats.starttime\n",
    "#     ot = utcdt(cat['ABSA'].values[0])\n",
    "#     print(ot)\n",
    "#     at = cat['ARR'].values[0]\n",
    "#     cattime=ot-at\n",
    "# #     cattime=utcdt(cat['ABSA'].values[0]) - cat['ARR'].values[0]\n",
    "# #     tr.stats.starttime=cattime\n",
    "#     tr.stats['evid'] = cat['EVID'].values\n",
    "#     tr.stats['evid'] = 61730847\n",
    "#     data=tr.stats.sac\n",
    "# #     data['evla'] = cat['LAT'].values[i]\n",
    "# #     data['evlo'] = cat['LON'].values[i]\n",
    "# #     data['evdp'] = cat['DEP'].values[i]*1000\n",
    "#     data['nevid']= cat['EVID'].values\n",
    "#     data['nevid']= 61730847\n",
    "# #     data['mag']= cat['MAG'].values[i]\n",
    "#     data['mag']= 2.0\n",
    "#     data.iztype = 11\n",
    "#     data['b'] = utcdt(starttime)-utcdt(cattime)\n",
    "#     data['o'] = 0\n",
    "#     data['kt1']= cat['ARR'].values[0]\n",
    "#     tr.stats['p_time'] = data['kt1']\n",
    "# #     end_window=utcdt(starttime)\n",
    "#     tr.trim(starttime+6.2, starttime+7.4)"
   ]
  },
  {
   "cell_type": "code",
   "execution_count": null,
   "metadata": {},
   "outputs": [],
   "source": [
    "# path='/Users/banjo/home/bnjo/hood/util/phaseFiles'\n",
    "# cat=pd.read_csv(path+'/test.csv')\n",
    "# arrdf=pd.read_csv(path+'/arrinfo.csv',sep=\"\\s+\")\n",
    "# # arrdf=arrdf.loc[arrdf['STA']=='HOOD']\n",
    "# arrdf=arrdf.loc[arrdf['PHA']=='P']\n",
    "# templates=obspy.read('/Users/banjo/home/bnjo/hood/det/hood/nbs/waveforms/*HOOD*.sac')\n",
    "# for i in range(len(templates)):\n",
    "#     tr=templates[i]\n",
    "#     tr.stats\n",
    "#     cat = arrdf.loc[arrdf['STA']==tr.stats.station]\n",
    "#     starttime=tr.stats.starttime\n",
    "#     ot = utcdt(cat['ABSA'].values[0])\n",
    "#     print(ot)\n",
    "#     at = cat['ARR'].values[0]\n",
    "#     cattime=ot-at\n",
    "# #     cattime=utcdt(cat['ABSA'].values[0]) - cat['ARR'].values[0]\n",
    "# #     tr.stats.starttime=cattime\n",
    "#     tr.stats['evid'] = cat['EVID'].values\n",
    "#     tr.stats['evid'] = 61730847\n",
    "#     data=tr.stats.sac\n",
    "# #     data['evla'] = cat['LAT'].values[i]\n",
    "# #     data['evlo'] = cat['LON'].values[i]\n",
    "# #     data['evdp'] = cat['DEP'].values[i]*1000\n",
    "#     data['nevid']= cat['EVID'].values\n",
    "#     data['nevid']= 61730847\n",
    "# #     data['mag']= cat['MAG'].values[i]\n",
    "#     data['mag']= 2.0\n",
    "#     data.iztype = 11\n",
    "#     data['b'] = utcdt(starttime)-utcdt(cattime)\n",
    "#     data['o'] = 0\n",
    "#     data['kt1']= cat['ARR'].values[0]\n",
    "#     tr.stats['p_time'] = data['kt1']\n",
    "# #     end_window=utcdt(starttime)\n",
    "#     tr.trim(starttime+6.2, starttime+7.4)"
   ]
  }
 ],
 "metadata": {
  "kernelspec": {
   "display_name": "Python 3 (ipykernel)",
   "language": "python",
   "name": "python3"
  },
  "language_info": {
   "codemirror_mode": {
    "name": "ipython",
    "version": 3
   },
   "file_extension": ".py",
   "mimetype": "text/x-python",
   "name": "python",
   "nbconvert_exporter": "python",
   "pygments_lexer": "ipython3",
   "version": "3.8.10"
  }
 },
 "nbformat": 4,
 "nbformat_minor": 4
}
